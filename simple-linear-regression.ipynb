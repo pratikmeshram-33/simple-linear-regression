{
 "cells": [
  {
   "cell_type": "code",
   "execution_count": 1,
   "id": "7ff9c171",
   "metadata": {
    "_cell_guid": "b1076dfc-b9ad-4769-8c92-a6c4dae69d19",
    "_uuid": "8f2839f25d086af736a60e9eeb907d3b93b6e0e5",
    "execution": {
     "iopub.execute_input": "2023-03-01T17:47:48.451576Z",
     "iopub.status.busy": "2023-03-01T17:47:48.450293Z",
     "iopub.status.idle": "2023-03-01T17:47:48.472533Z",
     "shell.execute_reply": "2023-03-01T17:47:48.471132Z"
    },
    "papermill": {
     "duration": 0.042441,
     "end_time": "2023-03-01T17:47:48.476190",
     "exception": false,
     "start_time": "2023-03-01T17:47:48.433749",
     "status": "completed"
    },
    "tags": []
   },
   "outputs": [
    {
     "name": "stdout",
     "output_type": "stream",
     "text": [
      "/kaggle/input/random-linear-regression/train.csv\n",
      "/kaggle/input/random-linear-regression/test.csv\n"
     ]
    }
   ],
   "source": [
    "# This Python 3 environment comes with many helpful analytics libraries installed\n",
    "# It is defined by the kaggle/python Docker image: https://github.com/kaggle/docker-python\n",
    "# For example, here's several helpful packages to load\n",
    "\n",
    "import numpy as np # linear algebra\n",
    "import pandas as pd # data processing, CSV file I/O (e.g. pd.read_csv)\n",
    "\n",
    "# Input data files are available in the read-only \"../input/\" directory\n",
    "# For example, running this (by clicking run or pressing Shift+Enter) will list all files under the input directory\n",
    "\n",
    "import os\n",
    "for dirname, _, filenames in os.walk('/kaggle/input'):\n",
    "    for filename in filenames:\n",
    "        print(os.path.join(dirname, filename))\n",
    "\n",
    "# You can write up to 20GB to the current directory (/kaggle/working/) that gets preserved as output when you create a version using \"Save & Run All\" \n",
    "# You can also write temporary files to /kaggle/temp/, but they won't be saved outside of the current session"
   ]
  },
  {
   "cell_type": "code",
   "execution_count": 2,
   "id": "6f4607b4",
   "metadata": {
    "execution": {
     "iopub.execute_input": "2023-03-01T17:47:48.501151Z",
     "iopub.status.busy": "2023-03-01T17:47:48.500728Z",
     "iopub.status.idle": "2023-03-01T17:47:48.521168Z",
     "shell.execute_reply": "2023-03-01T17:47:48.519942Z"
    },
    "papermill": {
     "duration": 0.03561,
     "end_time": "2023-03-01T17:47:48.523856",
     "exception": false,
     "start_time": "2023-03-01T17:47:48.488246",
     "status": "completed"
    },
    "tags": []
   },
   "outputs": [],
   "source": [
    "train = pd.read_csv(\"/kaggle/input/random-linear-regression/train.csv\")"
   ]
  },
  {
   "cell_type": "code",
   "execution_count": 3,
   "id": "d908c25d",
   "metadata": {
    "execution": {
     "iopub.execute_input": "2023-03-01T17:47:48.548225Z",
     "iopub.status.busy": "2023-03-01T17:47:48.547261Z",
     "iopub.status.idle": "2023-03-01T17:47:48.577586Z",
     "shell.execute_reply": "2023-03-01T17:47:48.576210Z"
    },
    "papermill": {
     "duration": 0.04558,
     "end_time": "2023-03-01T17:47:48.580204",
     "exception": false,
     "start_time": "2023-03-01T17:47:48.534624",
     "status": "completed"
    },
    "tags": []
   },
   "outputs": [
    {
     "data": {
      "text/html": [
       "<div>\n",
       "<style scoped>\n",
       "    .dataframe tbody tr th:only-of-type {\n",
       "        vertical-align: middle;\n",
       "    }\n",
       "\n",
       "    .dataframe tbody tr th {\n",
       "        vertical-align: top;\n",
       "    }\n",
       "\n",
       "    .dataframe thead th {\n",
       "        text-align: right;\n",
       "    }\n",
       "</style>\n",
       "<table border=\"1\" class=\"dataframe\">\n",
       "  <thead>\n",
       "    <tr style=\"text-align: right;\">\n",
       "      <th></th>\n",
       "      <th>x</th>\n",
       "      <th>y</th>\n",
       "    </tr>\n",
       "  </thead>\n",
       "  <tbody>\n",
       "    <tr>\n",
       "      <th>0</th>\n",
       "      <td>24.0</td>\n",
       "      <td>21.549452</td>\n",
       "    </tr>\n",
       "    <tr>\n",
       "      <th>1</th>\n",
       "      <td>50.0</td>\n",
       "      <td>47.464463</td>\n",
       "    </tr>\n",
       "    <tr>\n",
       "      <th>2</th>\n",
       "      <td>15.0</td>\n",
       "      <td>17.218656</td>\n",
       "    </tr>\n",
       "    <tr>\n",
       "      <th>3</th>\n",
       "      <td>38.0</td>\n",
       "      <td>36.586398</td>\n",
       "    </tr>\n",
       "    <tr>\n",
       "      <th>4</th>\n",
       "      <td>87.0</td>\n",
       "      <td>87.288984</td>\n",
       "    </tr>\n",
       "  </tbody>\n",
       "</table>\n",
       "</div>"
      ],
      "text/plain": [
       "      x          y\n",
       "0  24.0  21.549452\n",
       "1  50.0  47.464463\n",
       "2  15.0  17.218656\n",
       "3  38.0  36.586398\n",
       "4  87.0  87.288984"
      ]
     },
     "execution_count": 3,
     "metadata": {},
     "output_type": "execute_result"
    }
   ],
   "source": [
    "train.head()"
   ]
  },
  {
   "cell_type": "code",
   "execution_count": 4,
   "id": "8f978fcb",
   "metadata": {
    "execution": {
     "iopub.execute_input": "2023-03-01T17:47:48.606932Z",
     "iopub.status.busy": "2023-03-01T17:47:48.605509Z",
     "iopub.status.idle": "2023-03-01T17:47:48.621453Z",
     "shell.execute_reply": "2023-03-01T17:47:48.619489Z"
    },
    "papermill": {
     "duration": 0.033474,
     "end_time": "2023-03-01T17:47:48.624955",
     "exception": false,
     "start_time": "2023-03-01T17:47:48.591481",
     "status": "completed"
    },
    "tags": []
   },
   "outputs": [
    {
     "data": {
      "text/html": [
       "<div>\n",
       "<style scoped>\n",
       "    .dataframe tbody tr th:only-of-type {\n",
       "        vertical-align: middle;\n",
       "    }\n",
       "\n",
       "    .dataframe tbody tr th {\n",
       "        vertical-align: top;\n",
       "    }\n",
       "\n",
       "    .dataframe thead th {\n",
       "        text-align: right;\n",
       "    }\n",
       "</style>\n",
       "<table border=\"1\" class=\"dataframe\">\n",
       "  <thead>\n",
       "    <tr style=\"text-align: right;\">\n",
       "      <th></th>\n",
       "      <th>x</th>\n",
       "      <th>y</th>\n",
       "    </tr>\n",
       "  </thead>\n",
       "  <tbody>\n",
       "    <tr>\n",
       "      <th>695</th>\n",
       "      <td>58.0</td>\n",
       "      <td>58.595006</td>\n",
       "    </tr>\n",
       "    <tr>\n",
       "      <th>696</th>\n",
       "      <td>93.0</td>\n",
       "      <td>94.625094</td>\n",
       "    </tr>\n",
       "    <tr>\n",
       "      <th>697</th>\n",
       "      <td>82.0</td>\n",
       "      <td>88.603770</td>\n",
       "    </tr>\n",
       "    <tr>\n",
       "      <th>698</th>\n",
       "      <td>66.0</td>\n",
       "      <td>63.648685</td>\n",
       "    </tr>\n",
       "    <tr>\n",
       "      <th>699</th>\n",
       "      <td>97.0</td>\n",
       "      <td>94.975266</td>\n",
       "    </tr>\n",
       "  </tbody>\n",
       "</table>\n",
       "</div>"
      ],
      "text/plain": [
       "        x          y\n",
       "695  58.0  58.595006\n",
       "696  93.0  94.625094\n",
       "697  82.0  88.603770\n",
       "698  66.0  63.648685\n",
       "699  97.0  94.975266"
      ]
     },
     "execution_count": 4,
     "metadata": {},
     "output_type": "execute_result"
    }
   ],
   "source": [
    "train.tail(5)"
   ]
  },
  {
   "cell_type": "code",
   "execution_count": 5,
   "id": "fb3df714",
   "metadata": {
    "execution": {
     "iopub.execute_input": "2023-03-01T17:47:48.663556Z",
     "iopub.status.busy": "2023-03-01T17:47:48.662614Z",
     "iopub.status.idle": "2023-03-01T17:47:48.680267Z",
     "shell.execute_reply": "2023-03-01T17:47:48.679003Z"
    },
    "papermill": {
     "duration": 0.040908,
     "end_time": "2023-03-01T17:47:48.683424",
     "exception": false,
     "start_time": "2023-03-01T17:47:48.642516",
     "status": "completed"
    },
    "tags": []
   },
   "outputs": [
    {
     "data": {
      "text/html": [
       "<div>\n",
       "<style scoped>\n",
       "    .dataframe tbody tr th:only-of-type {\n",
       "        vertical-align: middle;\n",
       "    }\n",
       "\n",
       "    .dataframe tbody tr th {\n",
       "        vertical-align: top;\n",
       "    }\n",
       "\n",
       "    .dataframe thead th {\n",
       "        text-align: right;\n",
       "    }\n",
       "</style>\n",
       "<table border=\"1\" class=\"dataframe\">\n",
       "  <thead>\n",
       "    <tr style=\"text-align: right;\">\n",
       "      <th></th>\n",
       "      <th>x</th>\n",
       "      <th>y</th>\n",
       "    </tr>\n",
       "  </thead>\n",
       "  <tbody>\n",
       "    <tr>\n",
       "      <th>403</th>\n",
       "      <td>33.0</td>\n",
       "      <td>34.764416</td>\n",
       "    </tr>\n",
       "    <tr>\n",
       "      <th>240</th>\n",
       "      <td>29.0</td>\n",
       "      <td>26.334648</td>\n",
       "    </tr>\n",
       "    <tr>\n",
       "      <th>337</th>\n",
       "      <td>59.0</td>\n",
       "      <td>62.038116</td>\n",
       "    </tr>\n",
       "    <tr>\n",
       "      <th>395</th>\n",
       "      <td>27.0</td>\n",
       "      <td>23.476510</td>\n",
       "    </tr>\n",
       "    <tr>\n",
       "      <th>134</th>\n",
       "      <td>74.0</td>\n",
       "      <td>70.775498</td>\n",
       "    </tr>\n",
       "  </tbody>\n",
       "</table>\n",
       "</div>"
      ],
      "text/plain": [
       "        x          y\n",
       "403  33.0  34.764416\n",
       "240  29.0  26.334648\n",
       "337  59.0  62.038116\n",
       "395  27.0  23.476510\n",
       "134  74.0  70.775498"
      ]
     },
     "execution_count": 5,
     "metadata": {},
     "output_type": "execute_result"
    }
   ],
   "source": [
    "train.sample(5)"
   ]
  },
  {
   "cell_type": "code",
   "execution_count": 6,
   "id": "7a68c679",
   "metadata": {
    "execution": {
     "iopub.execute_input": "2023-03-01T17:47:48.721137Z",
     "iopub.status.busy": "2023-03-01T17:47:48.720109Z",
     "iopub.status.idle": "2023-03-01T17:47:48.749475Z",
     "shell.execute_reply": "2023-03-01T17:47:48.747064Z"
    },
    "papermill": {
     "duration": 0.052808,
     "end_time": "2023-03-01T17:47:48.753628",
     "exception": false,
     "start_time": "2023-03-01T17:47:48.700820",
     "status": "completed"
    },
    "tags": []
   },
   "outputs": [
    {
     "name": "stdout",
     "output_type": "stream",
     "text": [
      "<class 'pandas.core.frame.DataFrame'>\n",
      "RangeIndex: 700 entries, 0 to 699\n",
      "Data columns (total 2 columns):\n",
      " #   Column  Non-Null Count  Dtype  \n",
      "---  ------  --------------  -----  \n",
      " 0   x       700 non-null    float64\n",
      " 1   y       699 non-null    float64\n",
      "dtypes: float64(2)\n",
      "memory usage: 11.1 KB\n"
     ]
    }
   ],
   "source": [
    "train.info()"
   ]
  },
  {
   "cell_type": "code",
   "execution_count": 7,
   "id": "59705692",
   "metadata": {
    "execution": {
     "iopub.execute_input": "2023-03-01T17:47:48.786890Z",
     "iopub.status.busy": "2023-03-01T17:47:48.784724Z",
     "iopub.status.idle": "2023-03-01T17:47:48.796682Z",
     "shell.execute_reply": "2023-03-01T17:47:48.795232Z"
    },
    "papermill": {
     "duration": 0.028401,
     "end_time": "2023-03-01T17:47:48.799492",
     "exception": false,
     "start_time": "2023-03-01T17:47:48.771091",
     "status": "completed"
    },
    "tags": []
   },
   "outputs": [
    {
     "data": {
      "text/plain": [
       "(700, 2)"
      ]
     },
     "execution_count": 7,
     "metadata": {},
     "output_type": "execute_result"
    }
   ],
   "source": [
    "train.shape"
   ]
  },
  {
   "cell_type": "code",
   "execution_count": 8,
   "id": "65f0741c",
   "metadata": {
    "execution": {
     "iopub.execute_input": "2023-03-01T17:47:48.824354Z",
     "iopub.status.busy": "2023-03-01T17:47:48.823960Z",
     "iopub.status.idle": "2023-03-01T17:47:48.828330Z",
     "shell.execute_reply": "2023-03-01T17:47:48.827156Z"
    },
    "papermill": {
     "duration": 0.019824,
     "end_time": "2023-03-01T17:47:48.830849",
     "exception": false,
     "start_time": "2023-03-01T17:47:48.811025",
     "status": "completed"
    },
    "tags": []
   },
   "outputs": [],
   "source": [
    "# data cleaning/ data wrangling/ data munging\n",
    "# 1. null values findout \n",
    "# 2. outliers detect & remove "
   ]
  },
  {
   "cell_type": "code",
   "execution_count": 9,
   "id": "6acd7b76",
   "metadata": {
    "execution": {
     "iopub.execute_input": "2023-03-01T17:47:48.856115Z",
     "iopub.status.busy": "2023-03-01T17:47:48.855637Z",
     "iopub.status.idle": "2023-03-01T17:47:48.866465Z",
     "shell.execute_reply": "2023-03-01T17:47:48.865387Z"
    },
    "papermill": {
     "duration": 0.026374,
     "end_time": "2023-03-01T17:47:48.868929",
     "exception": false,
     "start_time": "2023-03-01T17:47:48.842555",
     "status": "completed"
    },
    "tags": []
   },
   "outputs": [
    {
     "data": {
      "text/plain": [
       "x    700\n",
       "y    700\n",
       "dtype: int64"
      ]
     },
     "execution_count": 9,
     "metadata": {},
     "output_type": "execute_result"
    }
   ],
   "source": [
    "train.isnull().count()"
   ]
  },
  {
   "cell_type": "code",
   "execution_count": 10,
   "id": "4681eeaa",
   "metadata": {
    "execution": {
     "iopub.execute_input": "2023-03-01T17:47:48.894604Z",
     "iopub.status.busy": "2023-03-01T17:47:48.894202Z",
     "iopub.status.idle": "2023-03-01T17:47:48.901524Z",
     "shell.execute_reply": "2023-03-01T17:47:48.900646Z"
    },
    "papermill": {
     "duration": 0.023308,
     "end_time": "2023-03-01T17:47:48.903794",
     "exception": false,
     "start_time": "2023-03-01T17:47:48.880486",
     "status": "completed"
    },
    "tags": []
   },
   "outputs": [
    {
     "data": {
      "text/plain": [
       "700"
      ]
     },
     "execution_count": 10,
     "metadata": {},
     "output_type": "execute_result"
    }
   ],
   "source": [
    "train[\"x\"].isnull().count()"
   ]
  },
  {
   "cell_type": "code",
   "execution_count": 11,
   "id": "3e2f912f",
   "metadata": {
    "execution": {
     "iopub.execute_input": "2023-03-01T17:47:48.929281Z",
     "iopub.status.busy": "2023-03-01T17:47:48.928420Z",
     "iopub.status.idle": "2023-03-01T17:47:48.937007Z",
     "shell.execute_reply": "2023-03-01T17:47:48.935760Z"
    },
    "papermill": {
     "duration": 0.024078,
     "end_time": "2023-03-01T17:47:48.939442",
     "exception": false,
     "start_time": "2023-03-01T17:47:48.915364",
     "status": "completed"
    },
    "tags": []
   },
   "outputs": [
    {
     "data": {
      "text/plain": [
       "700"
      ]
     },
     "execution_count": 11,
     "metadata": {},
     "output_type": "execute_result"
    }
   ],
   "source": [
    "train[\"y\"].isnull().count()"
   ]
  },
  {
   "cell_type": "code",
   "execution_count": 12,
   "id": "9d12a277",
   "metadata": {
    "execution": {
     "iopub.execute_input": "2023-03-01T17:47:48.964686Z",
     "iopub.status.busy": "2023-03-01T17:47:48.964298Z",
     "iopub.status.idle": "2023-03-01T17:47:48.974116Z",
     "shell.execute_reply": "2023-03-01T17:47:48.972676Z"
    },
    "papermill": {
     "duration": 0.02531,
     "end_time": "2023-03-01T17:47:48.976466",
     "exception": false,
     "start_time": "2023-03-01T17:47:48.951156",
     "status": "completed"
    },
    "tags": []
   },
   "outputs": [
    {
     "data": {
      "text/plain": [
       "58.000000      16\n",
       "49.000000      14\n",
       "16.000000      13\n",
       "24.000000      13\n",
       "25.000000      13\n",
       "               ..\n",
       "63.000000       3\n",
       "82.000000       2\n",
       "69.000000       2\n",
       "40.000000       2\n",
       "3530.157369     1\n",
       "Name: x, Length: 102, dtype: int64"
      ]
     },
     "execution_count": 12,
     "metadata": {},
     "output_type": "execute_result"
    }
   ],
   "source": [
    "train[\"x\"].value_counts()"
   ]
  },
  {
   "cell_type": "code",
   "execution_count": 13,
   "id": "cd91a421",
   "metadata": {
    "execution": {
     "iopub.execute_input": "2023-03-01T17:47:49.002551Z",
     "iopub.status.busy": "2023-03-01T17:47:49.001754Z",
     "iopub.status.idle": "2023-03-01T17:47:49.011136Z",
     "shell.execute_reply": "2023-03-01T17:47:49.010062Z"
    },
    "papermill": {
     "duration": 0.025057,
     "end_time": "2023-03-01T17:47:49.013412",
     "exception": false,
     "start_time": "2023-03-01T17:47:48.988355",
     "status": "completed"
    },
    "tags": []
   },
   "outputs": [
    {
     "data": {
      "text/plain": [
       "21.549452     1\n",
       "38.462137     1\n",
       "1.576584      1\n",
       "17.461814     1\n",
       "2.116113      1\n",
       "             ..\n",
       "58.372660     1\n",
       "87.220597     1\n",
       "102.496786    1\n",
       "43.883143     1\n",
       "94.975266     1\n",
       "Name: y, Length: 699, dtype: int64"
      ]
     },
     "execution_count": 13,
     "metadata": {},
     "output_type": "execute_result"
    }
   ],
   "source": [
    "train[\"y\"].value_counts()"
   ]
  },
  {
   "cell_type": "code",
   "execution_count": 14,
   "id": "267bc2af",
   "metadata": {
    "execution": {
     "iopub.execute_input": "2023-03-01T17:47:49.039443Z",
     "iopub.status.busy": "2023-03-01T17:47:49.039036Z",
     "iopub.status.idle": "2023-03-01T17:47:49.043724Z",
     "shell.execute_reply": "2023-03-01T17:47:49.042575Z"
    },
    "papermill": {
     "duration": 0.020819,
     "end_time": "2023-03-01T17:47:49.046173",
     "exception": false,
     "start_time": "2023-03-01T17:47:49.025354",
     "status": "completed"
    },
    "tags": []
   },
   "outputs": [],
   "source": [
    "# EDA"
   ]
  },
  {
   "cell_type": "code",
   "execution_count": 15,
   "id": "9c7371fe",
   "metadata": {
    "execution": {
     "iopub.execute_input": "2023-03-01T17:47:49.072094Z",
     "iopub.status.busy": "2023-03-01T17:47:49.071660Z",
     "iopub.status.idle": "2023-03-01T17:47:49.395349Z",
     "shell.execute_reply": "2023-03-01T17:47:49.394173Z"
    },
    "papermill": {
     "duration": 0.340139,
     "end_time": "2023-03-01T17:47:49.398217",
     "exception": false,
     "start_time": "2023-03-01T17:47:49.058078",
     "status": "completed"
    },
    "tags": []
   },
   "outputs": [
    {
     "name": "stderr",
     "output_type": "stream",
     "text": [
      "/opt/conda/lib/python3.7/site-packages/ipykernel_launcher.py:2: RuntimeWarning: Second argument 'y' is ambiguous: could be a format string but is in 'data'; using as data.  If it was intended as data, set the format string to an empty string to suppress this warning.  If it was intended as a format string, explicitly pass the x-values as well.  Alternatively, rename the entry in 'data'.\n",
      "  \n"
     ]
    },
    {
     "data": {
      "text/plain": [
       "[<matplotlib.lines.Line2D at 0x7f26c7104150>]"
      ]
     },
     "execution_count": 15,
     "metadata": {},
     "output_type": "execute_result"
    },
    {
     "data": {
      "image/png": "[encoded data removed]",
      "text/plain": [
       "<Figure size 640x480 with 1 Axes>"
      ]
     },
     "metadata": {},
     "output_type": "display_data"
    }
   ],
   "source": [
    "import matplotlib.pyplot as plt\n",
    "plt.plot(\"x\",\"y\", data=train)"
   ]
  },
  {
   "cell_type": "code",
   "execution_count": 16,
   "id": "831418ef",
   "metadata": {
    "execution": {
     "iopub.execute_input": "2023-03-01T17:47:49.425589Z",
     "iopub.status.busy": "2023-03-01T17:47:49.425146Z",
     "iopub.status.idle": "2023-03-01T17:47:49.696860Z",
     "shell.execute_reply": "2023-03-01T17:47:49.695537Z"
    },
    "papermill": {
     "duration": 0.288587,
     "end_time": "2023-03-01T17:47:49.699596",
     "exception": false,
     "start_time": "2023-03-01T17:47:49.411009",
     "status": "completed"
    },
    "tags": []
   },
   "outputs": [
    {
     "data": {
      "text/plain": [
       "<matplotlib.collections.PathCollection at 0x7f26d5e02fd0>"
      ]
     },
     "execution_count": 16,
     "metadata": {},
     "output_type": "execute_result"
    },
    {
     "data": {
      "image/png": "[encoded data removed]",
      "text/plain": [
       "<Figure size 640x480 with 1 Axes>"
      ]
     },
     "metadata": {},
     "output_type": "display_data"
    }
   ],
   "source": [
    "plt.scatter(\"x\",\"y\", data=train)"
   ]
  },
  {
   "cell_type": "code",
   "execution_count": 17,
   "id": "49989d7a",
   "metadata": {
    "execution": {
     "iopub.execute_input": "2023-03-01T17:47:49.728478Z",
     "iopub.status.busy": "2023-03-01T17:47:49.727667Z",
     "iopub.status.idle": "2023-03-01T17:47:51.386158Z",
     "shell.execute_reply": "2023-03-01T17:47:51.384950Z"
    },
    "papermill": {
     "duration": 1.675778,
     "end_time": "2023-03-01T17:47:51.388910",
     "exception": false,
     "start_time": "2023-03-01T17:47:49.713132",
     "status": "completed"
    },
    "tags": []
   },
   "outputs": [
    {
     "data": {
      "text/plain": [
       "<BarContainer object of 700 artists>"
      ]
     },
     "execution_count": 17,
     "metadata": {},
     "output_type": "execute_result"
    },
    {
     "data": {
      "image/png": "[encoded data removed]",
      "text/plain": [
       "<Figure size 640x480 with 1 Axes>"
      ]
     },
     "metadata": {},
     "output_type": "display_data"
    }
   ],
   "source": [
    "plt.bar(\"x\",\"y\", data=train)"
   ]
  },
  {
   "cell_type": "code",
   "execution_count": 18,
   "id": "04313f47",
   "metadata": {
    "execution": {
     "iopub.execute_input": "2023-03-01T17:47:51.418355Z",
     "iopub.status.busy": "2023-03-01T17:47:51.417263Z",
     "iopub.status.idle": "2023-03-01T17:47:51.616951Z",
     "shell.execute_reply": "2023-03-01T17:47:51.615645Z"
    },
    "papermill": {
     "duration": 0.217277,
     "end_time": "2023-03-01T17:47:51.619840",
     "exception": false,
     "start_time": "2023-03-01T17:47:51.402563",
     "status": "completed"
    },
    "tags": []
   },
   "outputs": [
    {
     "data": {
      "text/plain": [
       "{'whiskers': [<matplotlib.lines.Line2D at 0x7f26b7d18910>,\n",
       "  <matplotlib.lines.Line2D at 0x7f26b7d18c10>],\n",
       " 'caps': [<matplotlib.lines.Line2D at 0x7f26b7d18f50>,\n",
       "  <matplotlib.lines.Line2D at 0x7f26b7d232d0>],\n",
       " 'boxes': [<matplotlib.lines.Line2D at 0x7f26b7db5c90>],\n",
       " 'medians': [<matplotlib.lines.Line2D at 0x7f26b7d23590>],\n",
       " 'fliers': [<matplotlib.lines.Line2D at 0x7f26b7d238d0>],\n",
       " 'means': []}"
      ]
     },
     "execution_count": 18,
     "metadata": {},
     "output_type": "execute_result"
    },
    {
     "data": {
      "image/png": "[encoded data removed]",
      "text/plain": [
       "<Figure size 640x480 with 1 Axes>"
      ]
     },
     "metadata": {},
     "output_type": "display_data"
    }
   ],
   "source": [
    "plt.boxplot(\"x\", data=train)"
   ]
  },
  {
   "cell_type": "code",
   "execution_count": 19,
   "id": "5d61d00a",
   "metadata": {
    "execution": {
     "iopub.execute_input": "2023-03-01T17:47:51.649480Z",
     "iopub.status.busy": "2023-03-01T17:47:51.649077Z",
     "iopub.status.idle": "2023-03-01T17:47:51.655973Z",
     "shell.execute_reply": "2023-03-01T17:47:51.654855Z"
    },
    "papermill": {
     "duration": 0.024633,
     "end_time": "2023-03-01T17:47:51.658546",
     "exception": false,
     "start_time": "2023-03-01T17:47:51.633913",
     "status": "completed"
    },
    "tags": []
   },
   "outputs": [],
   "source": [
    "train = train.dropna()"
   ]
  },
  {
   "cell_type": "code",
   "execution_count": 20,
   "id": "5d3e6f81",
   "metadata": {
    "execution": {
     "iopub.execute_input": "2023-03-01T17:47:51.688622Z",
     "iopub.status.busy": "2023-03-01T17:47:51.687834Z",
     "iopub.status.idle": "2023-03-01T17:47:51.695313Z",
     "shell.execute_reply": "2023-03-01T17:47:51.694027Z"
    },
    "papermill": {
     "duration": 0.025185,
     "end_time": "2023-03-01T17:47:51.697799",
     "exception": false,
     "start_time": "2023-03-01T17:47:51.672614",
     "status": "completed"
    },
    "tags": []
   },
   "outputs": [
    {
     "data": {
      "text/plain": [
       "(699, 2)"
      ]
     },
     "execution_count": 20,
     "metadata": {},
     "output_type": "execute_result"
    }
   ],
   "source": [
    "train.shape"
   ]
  },
  {
   "cell_type": "code",
   "execution_count": 21,
   "id": "0a3ebed3",
   "metadata": {
    "execution": {
     "iopub.execute_input": "2023-03-01T17:47:51.728296Z",
     "iopub.status.busy": "2023-03-01T17:47:51.727280Z",
     "iopub.status.idle": "2023-03-01T17:47:51.917145Z",
     "shell.execute_reply": "2023-03-01T17:47:51.916014Z"
    },
    "papermill": {
     "duration": 0.208322,
     "end_time": "2023-03-01T17:47:51.920196",
     "exception": false,
     "start_time": "2023-03-01T17:47:51.711874",
     "status": "completed"
    },
    "tags": []
   },
   "outputs": [
    {
     "data": {
      "text/plain": [
       "{'whiskers': [<matplotlib.lines.Line2D at 0x7f26b7cdcf50>,\n",
       "  <matplotlib.lines.Line2D at 0x7f26b7ce4310>],\n",
       " 'caps': [<matplotlib.lines.Line2D at 0x7f26b7ce4650>,\n",
       "  <matplotlib.lines.Line2D at 0x7f26b7ce4990>],\n",
       " 'boxes': [<matplotlib.lines.Line2D at 0x7f26b7cdcd90>],\n",
       " 'medians': [<matplotlib.lines.Line2D at 0x7f26b7ce4d10>],\n",
       " 'fliers': [<matplotlib.lines.Line2D at 0x7f26b7cf3090>],\n",
       " 'means': []}"
      ]
     },
     "execution_count": 21,
     "metadata": {},
     "output_type": "execute_result"
    },
    {
     "data": {
      "image/png": "[encoded data removed]",
      "text/plain": [
       "<Figure size 640x480 with 1 Axes>"
      ]
     },
     "metadata": {},
     "output_type": "display_data"
    }
   ],
   "source": [
    "plt.boxplot(\"x\", data=train)"
   ]
  },
  {
   "cell_type": "code",
   "execution_count": 22,
   "id": "1ed2a623",
   "metadata": {
    "execution": {
     "iopub.execute_input": "2023-03-01T17:47:51.950968Z",
     "iopub.status.busy": "2023-03-01T17:47:51.950530Z",
     "iopub.status.idle": "2023-03-01T17:47:52.141517Z",
     "shell.execute_reply": "2023-03-01T17:47:52.140298Z"
    },
    "papermill": {
     "duration": 0.209451,
     "end_time": "2023-03-01T17:47:52.144117",
     "exception": false,
     "start_time": "2023-03-01T17:47:51.934666",
     "status": "completed"
    },
    "tags": []
   },
   "outputs": [
    {
     "data": {
      "text/plain": [
       "{'whiskers': [<matplotlib.lines.Line2D at 0x7f26b7c5b950>,\n",
       "  <matplotlib.lines.Line2D at 0x7f26b7c5be10>],\n",
       " 'caps': [<matplotlib.lines.Line2D at 0x7f26b7c60190>,\n",
       "  <matplotlib.lines.Line2D at 0x7f26b7c604d0>],\n",
       " 'boxes': [<matplotlib.lines.Line2D at 0x7f26b7c5b910>],\n",
       " 'medians': [<matplotlib.lines.Line2D at 0x7f26b7c60850>],\n",
       " 'fliers': [<matplotlib.lines.Line2D at 0x7f26b7c60b90>],\n",
       " 'means': []}"
      ]
     },
     "execution_count": 22,
     "metadata": {},
     "output_type": "execute_result"
    },
    {
     "data": {
      "image/png": "[encoded data removed]",
      "text/plain": [
       "<Figure size 640x480 with 1 Axes>"
      ]
     },
     "metadata": {},
     "output_type": "display_data"
    }
   ],
   "source": [
    "plt.boxplot(\"y\", data=train)"
   ]
  },
  {
   "cell_type": "code",
   "execution_count": 23,
   "id": "783800e9",
   "metadata": {
    "execution": {
     "iopub.execute_input": "2023-03-01T17:47:52.175740Z",
     "iopub.status.busy": "2023-03-01T17:47:52.175078Z",
     "iopub.status.idle": "2023-03-01T17:47:52.410481Z",
     "shell.execute_reply": "2023-03-01T17:47:52.409193Z"
    },
    "papermill": {
     "duration": 0.254403,
     "end_time": "2023-03-01T17:47:52.413321",
     "exception": false,
     "start_time": "2023-03-01T17:47:52.158918",
     "status": "completed"
    },
    "tags": []
   },
   "outputs": [
    {
     "data": {
      "text/plain": [
       "<matplotlib.collections.PathCollection at 0x7f26b7c30d50>"
      ]
     },
     "execution_count": 23,
     "metadata": {},
     "output_type": "execute_result"
    },
    {
     "data": {
      "image/png": "[encoded data removed]",
      "text/plain": [
       "<Figure size 640x480 with 1 Axes>"
      ]
     },
     "metadata": {},
     "output_type": "display_data"
    }
   ],
   "source": [
    "plt.scatter(\"x\",\"y\", data=train)"
   ]
  },
  {
   "cell_type": "code",
   "execution_count": 24,
   "id": "917e437a",
   "metadata": {
    "execution": {
     "iopub.execute_input": "2023-03-01T17:47:52.446096Z",
     "iopub.status.busy": "2023-03-01T17:47:52.445023Z",
     "iopub.status.idle": "2023-03-01T17:47:52.456497Z",
     "shell.execute_reply": "2023-03-01T17:47:52.455589Z"
    },
    "papermill": {
     "duration": 0.030615,
     "end_time": "2023-03-01T17:47:52.459189",
     "exception": false,
     "start_time": "2023-03-01T17:47:52.428574",
     "status": "completed"
    },
    "tags": []
   },
   "outputs": [],
   "source": [
    "test = pd.read_csv(\"/kaggle/input/random-linear-regression/test.csv\")"
   ]
  },
  {
   "cell_type": "code",
   "execution_count": 25,
   "id": "f5495869",
   "metadata": {
    "execution": {
     "iopub.execute_input": "2023-03-01T17:47:52.491700Z",
     "iopub.status.busy": "2023-03-01T17:47:52.491256Z",
     "iopub.status.idle": "2023-03-01T17:47:52.502241Z",
     "shell.execute_reply": "2023-03-01T17:47:52.501062Z"
    },
    "papermill": {
     "duration": 0.030031,
     "end_time": "2023-03-01T17:47:52.504614",
     "exception": false,
     "start_time": "2023-03-01T17:47:52.474583",
     "status": "completed"
    },
    "tags": []
   },
   "outputs": [
    {
     "data": {
      "text/html": [
       "<div>\n",
       "<style scoped>\n",
       "    .dataframe tbody tr th:only-of-type {\n",
       "        vertical-align: middle;\n",
       "    }\n",
       "\n",
       "    .dataframe tbody tr th {\n",
       "        vertical-align: top;\n",
       "    }\n",
       "\n",
       "    .dataframe thead th {\n",
       "        text-align: right;\n",
       "    }\n",
       "</style>\n",
       "<table border=\"1\" class=\"dataframe\">\n",
       "  <thead>\n",
       "    <tr style=\"text-align: right;\">\n",
       "      <th></th>\n",
       "      <th>x</th>\n",
       "      <th>y</th>\n",
       "    </tr>\n",
       "  </thead>\n",
       "  <tbody>\n",
       "    <tr>\n",
       "      <th>0</th>\n",
       "      <td>77</td>\n",
       "      <td>79.775152</td>\n",
       "    </tr>\n",
       "    <tr>\n",
       "      <th>1</th>\n",
       "      <td>21</td>\n",
       "      <td>23.177279</td>\n",
       "    </tr>\n",
       "    <tr>\n",
       "      <th>2</th>\n",
       "      <td>22</td>\n",
       "      <td>25.609262</td>\n",
       "    </tr>\n",
       "    <tr>\n",
       "      <th>3</th>\n",
       "      <td>20</td>\n",
       "      <td>17.857388</td>\n",
       "    </tr>\n",
       "    <tr>\n",
       "      <th>4</th>\n",
       "      <td>36</td>\n",
       "      <td>41.849864</td>\n",
       "    </tr>\n",
       "  </tbody>\n",
       "</table>\n",
       "</div>"
      ],
      "text/plain": [
       "    x          y\n",
       "0  77  79.775152\n",
       "1  21  23.177279\n",
       "2  22  25.609262\n",
       "3  20  17.857388\n",
       "4  36  41.849864"
      ]
     },
     "execution_count": 25,
     "metadata": {},
     "output_type": "execute_result"
    }
   ],
   "source": [
    "test.head()"
   ]
  },
  {
   "cell_type": "code",
   "execution_count": 26,
   "id": "d628631b",
   "metadata": {
    "execution": {
     "iopub.execute_input": "2023-03-01T17:47:52.536842Z",
     "iopub.status.busy": "2023-03-01T17:47:52.536387Z",
     "iopub.status.idle": "2023-03-01T17:47:52.547002Z",
     "shell.execute_reply": "2023-03-01T17:47:52.545931Z"
    },
    "papermill": {
     "duration": 0.029568,
     "end_time": "2023-03-01T17:47:52.549359",
     "exception": false,
     "start_time": "2023-03-01T17:47:52.519791",
     "status": "completed"
    },
    "tags": []
   },
   "outputs": [
    {
     "data": {
      "text/html": [
       "<div>\n",
       "<style scoped>\n",
       "    .dataframe tbody tr th:only-of-type {\n",
       "        vertical-align: middle;\n",
       "    }\n",
       "\n",
       "    .dataframe tbody tr th {\n",
       "        vertical-align: top;\n",
       "    }\n",
       "\n",
       "    .dataframe thead th {\n",
       "        text-align: right;\n",
       "    }\n",
       "</style>\n",
       "<table border=\"1\" class=\"dataframe\">\n",
       "  <thead>\n",
       "    <tr style=\"text-align: right;\">\n",
       "      <th></th>\n",
       "      <th>x</th>\n",
       "      <th>y</th>\n",
       "    </tr>\n",
       "  </thead>\n",
       "  <tbody>\n",
       "    <tr>\n",
       "      <th>295</th>\n",
       "      <td>71</td>\n",
       "      <td>68.545888</td>\n",
       "    </tr>\n",
       "    <tr>\n",
       "      <th>296</th>\n",
       "      <td>46</td>\n",
       "      <td>47.334876</td>\n",
       "    </tr>\n",
       "    <tr>\n",
       "      <th>297</th>\n",
       "      <td>55</td>\n",
       "      <td>54.090637</td>\n",
       "    </tr>\n",
       "    <tr>\n",
       "      <th>298</th>\n",
       "      <td>62</td>\n",
       "      <td>63.297171</td>\n",
       "    </tr>\n",
       "    <tr>\n",
       "      <th>299</th>\n",
       "      <td>47</td>\n",
       "      <td>52.459467</td>\n",
       "    </tr>\n",
       "  </tbody>\n",
       "</table>\n",
       "</div>"
      ],
      "text/plain": [
       "      x          y\n",
       "295  71  68.545888\n",
       "296  46  47.334876\n",
       "297  55  54.090637\n",
       "298  62  63.297171\n",
       "299  47  52.459467"
      ]
     },
     "execution_count": 26,
     "metadata": {},
     "output_type": "execute_result"
    }
   ],
   "source": [
    "test.tail(5)"
   ]
  },
  {
   "cell_type": "code",
   "execution_count": 27,
   "id": "95044115",
   "metadata": {
    "execution": {
     "iopub.execute_input": "2023-03-01T17:47:52.582436Z",
     "iopub.status.busy": "2023-03-01T17:47:52.581429Z",
     "iopub.status.idle": "2023-03-01T17:47:52.818373Z",
     "shell.execute_reply": "2023-03-01T17:47:52.817177Z"
    },
    "papermill": {
     "duration": 0.256266,
     "end_time": "2023-03-01T17:47:52.821080",
     "exception": false,
     "start_time": "2023-03-01T17:47:52.564814",
     "status": "completed"
    },
    "tags": []
   },
   "outputs": [
    {
     "data": {
      "text/plain": [
       "<matplotlib.collections.PathCollection at 0x7f26b7b49f90>"
      ]
     },
     "execution_count": 27,
     "metadata": {},
     "output_type": "execute_result"
    },
    {
     "data": {
      "image/png": "[encoded data removed]",
      "text/plain": [
       "<Figure size 640x480 with 1 Axes>"
      ]
     },
     "metadata": {},
     "output_type": "display_data"
    }
   ],
   "source": [
    "plt.scatter(\"x\",\"y\", data=test)"
   ]
  },
  {
   "cell_type": "code",
   "execution_count": 28,
   "id": "a7240db1",
   "metadata": {
    "execution": {
     "iopub.execute_input": "2023-03-01T17:47:52.855086Z",
     "iopub.status.busy": "2023-03-01T17:47:52.854679Z",
     "iopub.status.idle": "2023-03-01T17:47:52.858959Z",
     "shell.execute_reply": "2023-03-01T17:47:52.857821Z"
    },
    "papermill": {
     "duration": 0.024138,
     "end_time": "2023-03-01T17:47:52.861315",
     "exception": false,
     "start_time": "2023-03-01T17:47:52.837177",
     "status": "completed"
    },
    "tags": []
   },
   "outputs": [],
   "source": [
    "# model\n",
    "# 1. simple linear regression "
   ]
  },
  {
   "cell_type": "code",
   "execution_count": 29,
   "id": "f8785c68",
   "metadata": {
    "execution": {
     "iopub.execute_input": "2023-03-01T17:47:52.895742Z",
     "iopub.status.busy": "2023-03-01T17:47:52.894886Z",
     "iopub.status.idle": "2023-03-01T17:47:54.288735Z",
     "shell.execute_reply": "2023-03-01T17:47:54.287357Z"
    },
    "papermill": {
     "duration": 1.414584,
     "end_time": "2023-03-01T17:47:54.291972",
     "exception": false,
     "start_time": "2023-03-01T17:47:52.877388",
     "status": "completed"
    },
    "tags": []
   },
   "outputs": [],
   "source": [
    "from sklearn import linear_model"
   ]
  },
  {
   "cell_type": "code",
   "execution_count": 30,
   "id": "78058716",
   "metadata": {
    "execution": {
     "iopub.execute_input": "2023-03-01T17:47:54.326956Z",
     "iopub.status.busy": "2023-03-01T17:47:54.325988Z",
     "iopub.status.idle": "2023-03-01T17:47:54.331866Z",
     "shell.execute_reply": "2023-03-01T17:47:54.330605Z"
    },
    "papermill": {
     "duration": 0.026127,
     "end_time": "2023-03-01T17:47:54.334442",
     "exception": false,
     "start_time": "2023-03-01T17:47:54.308315",
     "status": "completed"
    },
    "tags": []
   },
   "outputs": [],
   "source": [
    "slr =  linear_model.LinearRegression()"
   ]
  },
  {
   "cell_type": "code",
   "execution_count": 31,
   "id": "634a37ca",
   "metadata": {
    "execution": {
     "iopub.execute_input": "2023-03-01T17:47:54.369597Z",
     "iopub.status.busy": "2023-03-01T17:47:54.368753Z",
     "iopub.status.idle": "2023-03-01T17:47:54.376583Z",
     "shell.execute_reply": "2023-03-01T17:47:54.375337Z"
    },
    "papermill": {
     "duration": 0.02873,
     "end_time": "2023-03-01T17:47:54.379647",
     "exception": false,
     "start_time": "2023-03-01T17:47:54.350917",
     "status": "completed"
    },
    "tags": []
   },
   "outputs": [],
   "source": [
    "x_train = np.array(train.iloc[:, :-1].values)\n",
    "y_train = np.array(train.iloc[:, 1].values)\n",
    "x_test = np.array(test.iloc[:, :-1].values)\n",
    "y_test = np.array(test.iloc[:, 1].values)"
   ]
  },
  {
   "cell_type": "code",
   "execution_count": 32,
   "id": "d8b3a927",
   "metadata": {
    "execution": {
     "iopub.execute_input": "2023-03-01T17:47:54.414378Z",
     "iopub.status.busy": "2023-03-01T17:47:54.413949Z",
     "iopub.status.idle": "2023-03-01T17:47:54.432001Z",
     "shell.execute_reply": "2023-03-01T17:47:54.431107Z"
    },
    "papermill": {
     "duration": 0.038098,
     "end_time": "2023-03-01T17:47:54.434267",
     "exception": false,
     "start_time": "2023-03-01T17:47:54.396169",
     "status": "completed"
    },
    "tags": []
   },
   "outputs": [
    {
     "data": {
      "text/plain": [
       "LinearRegression()"
      ]
     },
     "execution_count": 32,
     "metadata": {},
     "output_type": "execute_result"
    }
   ],
   "source": [
    "slr.fit(x_train,y_train)"
   ]
  },
  {
   "cell_type": "code",
   "execution_count": 33,
   "id": "21765a38",
   "metadata": {
    "execution": {
     "iopub.execute_input": "2023-03-01T17:47:54.469970Z",
     "iopub.status.busy": "2023-03-01T17:47:54.469086Z",
     "iopub.status.idle": "2023-03-01T17:47:54.474196Z",
     "shell.execute_reply": "2023-03-01T17:47:54.473263Z"
    },
    "papermill": {
     "duration": 0.025721,
     "end_time": "2023-03-01T17:47:54.476621",
     "exception": false,
     "start_time": "2023-03-01T17:47:54.450900",
     "status": "completed"
    },
    "tags": []
   },
   "outputs": [],
   "source": [
    "# y = mx+c\n",
    "#_coeff (coefficient/slope/m)\n",
    "#_intercept (bias/intercept)"
   ]
  },
  {
   "cell_type": "code",
   "execution_count": 34,
   "id": "8a77362c",
   "metadata": {
    "execution": {
     "iopub.execute_input": "2023-03-01T17:47:54.512465Z",
     "iopub.status.busy": "2023-03-01T17:47:54.511716Z",
     "iopub.status.idle": "2023-03-01T17:47:54.519067Z",
     "shell.execute_reply": "2023-03-01T17:47:54.517874Z"
    },
    "papermill": {
     "duration": 0.028427,
     "end_time": "2023-03-01T17:47:54.521501",
     "exception": false,
     "start_time": "2023-03-01T17:47:54.493074",
     "status": "completed"
    },
    "tags": []
   },
   "outputs": [
    {
     "data": {
      "text/plain": [
       "array([1.00065638])"
      ]
     },
     "execution_count": 34,
     "metadata": {},
     "output_type": "execute_result"
    }
   ],
   "source": [
    "slr.coef_"
   ]
  },
  {
   "cell_type": "code",
   "execution_count": 35,
   "id": "24710f01",
   "metadata": {
    "execution": {
     "iopub.execute_input": "2023-03-01T17:47:54.558077Z",
     "iopub.status.busy": "2023-03-01T17:47:54.557345Z",
     "iopub.status.idle": "2023-03-01T17:47:54.565137Z",
     "shell.execute_reply": "2023-03-01T17:47:54.563971Z"
    },
    "papermill": {
     "duration": 0.029757,
     "end_time": "2023-03-01T17:47:54.567651",
     "exception": false,
     "start_time": "2023-03-01T17:47:54.537894",
     "status": "completed"
    },
    "tags": []
   },
   "outputs": [
    {
     "data": {
      "text/plain": [
       "-0.10726546430097272"
      ]
     },
     "execution_count": 35,
     "metadata": {},
     "output_type": "execute_result"
    }
   ],
   "source": [
    "slr.intercept_"
   ]
  },
  {
   "cell_type": "code",
   "execution_count": 36,
   "id": "f69e9395",
   "metadata": {
    "execution": {
     "iopub.execute_input": "2023-03-01T17:47:54.603177Z",
     "iopub.status.busy": "2023-03-01T17:47:54.602287Z",
     "iopub.status.idle": "2023-03-01T17:47:54.607475Z",
     "shell.execute_reply": "2023-03-01T17:47:54.606221Z"
    },
    "papermill": {
     "duration": 0.026476,
     "end_time": "2023-03-01T17:47:54.610681",
     "exception": false,
     "start_time": "2023-03-01T17:47:54.584205",
     "status": "completed"
    },
    "tags": []
   },
   "outputs": [],
   "source": [
    "# y = 1.00065638 * x -0.107265"
   ]
  },
  {
   "cell_type": "code",
   "execution_count": 37,
   "id": "288cfc5a",
   "metadata": {
    "execution": {
     "iopub.execute_input": "2023-03-01T17:47:54.647904Z",
     "iopub.status.busy": "2023-03-01T17:47:54.646612Z",
     "iopub.status.idle": "2023-03-01T17:47:54.652878Z",
     "shell.execute_reply": "2023-03-01T17:47:54.651892Z"
    },
    "papermill": {
     "duration": 0.027155,
     "end_time": "2023-03-01T17:47:54.655385",
     "exception": false,
     "start_time": "2023-03-01T17:47:54.628230",
     "status": "completed"
    },
    "tags": []
   },
   "outputs": [],
   "source": [
    "y_pred = slr.predict(x_test)"
   ]
  },
  {
   "cell_type": "code",
   "execution_count": 38,
   "id": "bd07b38f",
   "metadata": {
    "execution": {
     "iopub.execute_input": "2023-03-01T17:47:54.690523Z",
     "iopub.status.busy": "2023-03-01T17:47:54.689846Z",
     "iopub.status.idle": "2023-03-01T17:47:54.696126Z",
     "shell.execute_reply": "2023-03-01T17:47:54.694970Z"
    },
    "papermill": {
     "duration": 0.027108,
     "end_time": "2023-03-01T17:47:54.698932",
     "exception": false,
     "start_time": "2023-03-01T17:47:54.671824",
     "status": "completed"
    },
    "tags": []
   },
   "outputs": [],
   "source": [
    "accuracy = slr.score(x_test,y_test)"
   ]
  },
  {
   "cell_type": "code",
   "execution_count": 39,
   "id": "d0d45430",
   "metadata": {
    "execution": {
     "iopub.execute_input": "2023-03-01T17:47:54.734309Z",
     "iopub.status.busy": "2023-03-01T17:47:54.733899Z",
     "iopub.status.idle": "2023-03-01T17:47:54.739126Z",
     "shell.execute_reply": "2023-03-01T17:47:54.737968Z"
    },
    "papermill": {
     "duration": 0.027148,
     "end_time": "2023-03-01T17:47:54.742619",
     "exception": false,
     "start_time": "2023-03-01T17:47:54.715471",
     "status": "completed"
    },
    "tags": []
   },
   "outputs": [
    {
     "name": "stdout",
     "output_type": "stream",
     "text": [
      "0.9888014444327563\n"
     ]
    }
   ],
   "source": [
    "print(accuracy)"
   ]
  },
  {
   "cell_type": "code",
   "execution_count": 40,
   "id": "b552530d",
   "metadata": {
    "execution": {
     "iopub.execute_input": "2023-03-01T17:47:54.778298Z",
     "iopub.status.busy": "2023-03-01T17:47:54.777882Z",
     "iopub.status.idle": "2023-03-01T17:47:54.986226Z",
     "shell.execute_reply": "2023-03-01T17:47:54.985276Z"
    },
    "papermill": {
     "duration": 0.228728,
     "end_time": "2023-03-01T17:47:54.988403",
     "exception": false,
     "start_time": "2023-03-01T17:47:54.759675",
     "status": "completed"
    },
    "tags": []
   },
   "outputs": [
    {
     "data": {
      "image/png": "[encoded data removed]",
      "text/plain": [
       "<Figure size 640x480 with 1 Axes>"
      ]
     },
     "metadata": {},
     "output_type": "display_data"
    }
   ],
   "source": [
    "plt.plot(x_test, y_pred, color = 'red')\n",
    "plt.show()"
   ]
  },
  {
   "cell_type": "code",
   "execution_count": 41,
   "id": "788aab1d",
   "metadata": {
    "execution": {
     "iopub.execute_input": "2023-03-01T17:47:55.025076Z",
     "iopub.status.busy": "2023-03-01T17:47:55.023937Z",
     "iopub.status.idle": "2023-03-01T17:47:55.237802Z",
     "shell.execute_reply": "2023-03-01T17:47:55.236549Z"
    },
    "papermill": {
     "duration": 0.235128,
     "end_time": "2023-03-01T17:47:55.240578",
     "exception": false,
     "start_time": "2023-03-01T17:47:55.005450",
     "status": "completed"
    },
    "tags": []
   },
   "outputs": [
    {
     "data": {
      "image/png": "[encoded data removed]",
      "text/plain": [
       "<Figure size 640x480 with 1 Axes>"
      ]
     },
     "metadata": {},
     "output_type": "display_data"
    }
   ],
   "source": [
    "plt.scatter(\"x\",\"y\", data=test)\n",
    "plt.plot(x_test, y_pred, color = 'red')\n",
    "plt.show()"
   ]
  },
  {
   "cell_type": "code",
   "execution_count": 42,
   "id": "5baba163",
   "metadata": {
    "execution": {
     "iopub.execute_input": "2023-03-01T17:47:55.277841Z",
     "iopub.status.busy": "2023-03-01T17:47:55.277383Z",
     "iopub.status.idle": "2023-03-01T17:47:55.282863Z",
     "shell.execute_reply": "2023-03-01T17:47:55.281540Z"
    },
    "papermill": {
     "duration": 0.027213,
     "end_time": "2023-03-01T17:47:55.285475",
     "exception": false,
     "start_time": "2023-03-01T17:47:55.258262",
     "status": "completed"
    },
    "tags": []
   },
   "outputs": [],
   "source": [
    "from sklearn.metrics import mean_absolute_error"
   ]
  },
  {
   "cell_type": "code",
   "execution_count": 43,
   "id": "2a74d60c",
   "metadata": {
    "execution": {
     "iopub.execute_input": "2023-03-01T17:47:55.322477Z",
     "iopub.status.busy": "2023-03-01T17:47:55.321626Z",
     "iopub.status.idle": "2023-03-01T17:47:55.329459Z",
     "shell.execute_reply": "2023-03-01T17:47:55.328616Z"
    },
    "papermill": {
     "duration": 0.028744,
     "end_time": "2023-03-01T17:47:55.331574",
     "exception": false,
     "start_time": "2023-03-01T17:47:55.302830",
     "status": "completed"
    },
    "tags": []
   },
   "outputs": [
    {
     "data": {
      "text/plain": [
       "2.415771850041258"
      ]
     },
     "execution_count": 43,
     "metadata": {},
     "output_type": "execute_result"
    }
   ],
   "source": [
    "mean_absolute_error(y_test,y_pred)"
   ]
  },
  {
   "cell_type": "code",
   "execution_count": 44,
   "id": "622613e6",
   "metadata": {
    "execution": {
     "iopub.execute_input": "2023-03-01T17:47:55.368901Z",
     "iopub.status.busy": "2023-03-01T17:47:55.368432Z",
     "iopub.status.idle": "2023-03-01T17:47:55.373833Z",
     "shell.execute_reply": "2023-03-01T17:47:55.372738Z"
    },
    "papermill": {
     "duration": 0.026688,
     "end_time": "2023-03-01T17:47:55.376184",
     "exception": false,
     "start_time": "2023-03-01T17:47:55.349496",
     "status": "completed"
    },
    "tags": []
   },
   "outputs": [],
   "source": [
    "from sklearn.metrics import mean_squared_error"
   ]
  },
  {
   "cell_type": "code",
   "execution_count": 45,
   "id": "dc2a3093",
   "metadata": {
    "execution": {
     "iopub.execute_input": "2023-03-01T17:47:55.412684Z",
     "iopub.status.busy": "2023-03-01T17:47:55.412235Z",
     "iopub.status.idle": "2023-03-01T17:47:55.420185Z",
     "shell.execute_reply": "2023-03-01T17:47:55.418952Z"
    },
    "papermill": {
     "duration": 0.028942,
     "end_time": "2023-03-01T17:47:55.422502",
     "exception": false,
     "start_time": "2023-03-01T17:47:55.393560",
     "status": "completed"
    },
    "tags": []
   },
   "outputs": [
    {
     "data": {
      "text/plain": [
       "9.432922192039305"
      ]
     },
     "execution_count": 45,
     "metadata": {},
     "output_type": "execute_result"
    }
   ],
   "source": [
    "mean_squared_error(y_test, y_pred)"
   ]
  },
  {
   "cell_type": "code",
   "execution_count": 46,
   "id": "7766da1f",
   "metadata": {
    "execution": {
     "iopub.execute_input": "2023-03-01T17:47:55.459793Z",
     "iopub.status.busy": "2023-03-01T17:47:55.459374Z",
     "iopub.status.idle": "2023-03-01T17:47:55.464750Z",
     "shell.execute_reply": "2023-03-01T17:47:55.463456Z"
    },
    "papermill": {
     "duration": 0.028036,
     "end_time": "2023-03-01T17:47:55.467974",
     "exception": false,
     "start_time": "2023-03-01T17:47:55.439938",
     "status": "completed"
    },
    "tags": []
   },
   "outputs": [],
   "source": [
    "from sklearn.metrics import r2_score"
   ]
  },
  {
   "cell_type": "code",
   "execution_count": 47,
   "id": "9c33ed09",
   "metadata": {
    "execution": {
     "iopub.execute_input": "2023-03-01T17:47:55.506159Z",
     "iopub.status.busy": "2023-03-01T17:47:55.505009Z",
     "iopub.status.idle": "2023-03-01T17:47:55.513208Z",
     "shell.execute_reply": "2023-03-01T17:47:55.512336Z"
    },
    "papermill": {
     "duration": 0.029671,
     "end_time": "2023-03-01T17:47:55.515507",
     "exception": false,
     "start_time": "2023-03-01T17:47:55.485836",
     "status": "completed"
    },
    "tags": []
   },
   "outputs": [
    {
     "data": {
      "text/plain": [
       "0.9888014444327563"
      ]
     },
     "execution_count": 47,
     "metadata": {},
     "output_type": "execute_result"
    }
   ],
   "source": [
    "r2_score(y_test, y_pred)"
   ]
  }
 ],
 "metadata": {
  "kernelspec": {
   "display_name": "Python 3",
   "language": "python",
   "name": "python3"
  },
  "language_info": {
   "codemirror_mode": {
    "name": "ipython",
    "version": 3
   },
   "file_extension": ".py",
   "mimetype": "text/x-python",
   "name": "python",
   "nbconvert_exporter": "python",
   "pygments_lexer": "ipython3",
   "version": "3.7.12"
  },
  "papermill": {
   "default_parameters": {},
   "duration": 18.928001,
   "end_time": "2023-03-01T17:47:56.456221",
   "environment_variables": {},
   "exception": null,
   "input_path": "__notebook__.ipynb",
   "output_path": "__notebook__.ipynb",
   "parameters": {},
   "start_time": "2023-03-01T17:47:37.528220",
   "version": "2.4.0"
  }
 },
 "nbformat": 4,
 "nbformat_minor": 5
}
